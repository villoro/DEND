{
 "cells": [
  {
   "cell_type": "markdown",
   "metadata": {},
   "source": [
    "# Lesson 2 Exercise 2: Creating Denormalized Tables\n",
    "\n",
    "<img src=\"images/postgresSQLlogo.png\" width=\"250\" height=\"250\">"
   ]
  },
  {
   "cell_type": "markdown",
   "metadata": {},
   "source": [
    "## Walk through the basics of modeling data from normalized from to denormalized form. We will create tables in PostgreSQL, insert rows of data, and do simple JOIN SQL queries to show how these multiple tables can work together. \n",
    "\n",
    "#### Where you see ##### you will need to fill in code. This exercise will be more challenging than the last. Use the information provided to create the tables and write the insert statements.\n",
    "\n",
    "#### Remember the examples shown are simple, but imagine these situations at scale with large datasets, many users, and the need for quick response time. \n",
    "\n",
    "Note: __Do not__ click the blue Preview button in the lower task bar"
   ]
  },
  {
   "cell_type": "markdown",
   "metadata": {},
   "source": [
    "### Import the library \n",
    "Note: An error might popup after this command has exectuted. If it does read it careful before ignoring. "
   ]
  },
  {
   "cell_type": "code",
   "execution_count": 1,
   "metadata": {},
   "outputs": [],
   "source": [
    "import psycopg2"
   ]
  },
  {
   "cell_type": "markdown",
   "metadata": {},
   "source": [
    "### Create a connection to the database, get a cursor, and set autocommit to true"
   ]
  },
  {
   "cell_type": "code",
   "execution_count": 2,
   "metadata": {},
   "outputs": [],
   "source": [
    "try: \n",
    "    conn = psycopg2.connect(\"host=127.0.0.1 dbname=studentdb user=student password=student\")\n",
    "except psycopg2.Error as e: \n",
    "    print(f\"Error: Could not make connection to the Postgres database\\n{e}\")\n",
    "try: \n",
    "    cur = conn.cursor()\n",
    "except psycopg2.Error as e: \n",
    "    print(f\"Error: Could not get curser to the Database\\n{e}\")\n",
    "conn.set_session(autocommit=True)"
   ]
  },
  {
   "cell_type": "markdown",
   "metadata": {},
   "source": [
    "#### Let's start with our normalized (3NF) database set of tables we had in the last exercise, but we have added a new table `sales`. \n",
    "\n",
    "`Table Name: transactions2 \n",
    "column 0: transaction Id\n",
    "column 1: Customer Name\n",
    "column 2: Cashier Id\n",
    "column 3: Year `\n",
    "\n",
    "`Table Name: albums_sold\n",
    "column 0: Album Id\n",
    "column 1: Transaction Id\n",
    "column 3: Album Name` \n",
    "\n",
    "`Table Name: employees\n",
    "column 0: Employee Id\n",
    "column 1: Employee Name `\n",
    "\n",
    "`Table Name: sales\n",
    "column 0: Transaction Id\n",
    "column 1: Amount Spent\n",
    "`\n",
    "<img src=\"images/table16.png\" width=\"450\" height=\"450\"> <img src=\"images/table15.png\" width=\"450\" height=\"450\"> <img src=\"images/table17.png\" width=\"350\" height=\"350\"> <img src=\"images/table18.png\" width=\"350\" height=\"350\">\n"
   ]
  },
  {
   "cell_type": "markdown",
   "metadata": {},
   "source": [
    "### TO-DO: Add all Create statements for all Tables and Insert data into the tables"
   ]
  },
  {
   "cell_type": "code",
   "execution_count": 14,
   "metadata": {},
   "outputs": [],
   "source": [
    "# TO-DO: Add all Create statements for all tables\n",
    "tables = {\n",
    "    \"transactions\": \"id INTEGER, customer TEXT, cashier_id INTEGER, year INTEGER\",\n",
    "    \"albumns\": \"id INTEGER, transaction_id INTEGER, albumn TEXT\",\n",
    "    \"employees\": \"id INTEGER, name TEXT\",\n",
    "    \"sales\": \"transaction_id INTEGER, amount INTEGER\",\n",
    "}\n",
    "for name, columns in tables.items():\n",
    "    try: \n",
    "        cur.execute(f\"CREATE TABLE IF NOT EXISTS {name} ({columns});\")\n",
    "    except psycopg2.Error as e: \n",
    "        print(f\"Error: Issue creating table\\n{e}\")\n",
    "\n",
    "        \n",
    "# TO-DO: Insert data into the tables    \n",
    "data = {\n",
    "    \"INSERT INTO transactions (id, customer, cashier_id, year) VALUES (%s, %s, %s, %s)\": [\n",
    "        (1, \"Amanda\", 1, 2000),\n",
    "        (2, \"Toby\", 1, 2000),\n",
    "        (3, \"Max\", 2, 2018),\n",
    "\n",
    "    ],\n",
    "    \"INSERT INTO albumns (id, transaction_id, albumn) VALUES (%s, %s, %s)\": [\n",
    "        (1, 1, \"Rubber Soul\"),\n",
    "        (2, 1, \"Let it Be\"),\n",
    "        (3, 2, \"My Generation\"),\n",
    "        (4, 3, \"Meet the Beatles\"),\n",
    "        (5, 3, \"Help!\"),\n",
    "    ],\n",
    "    \"INSERT INTO employees (id, name) VALUES (%s, %s)\": [\n",
    "        (1, \"Sam\"),\n",
    "        (2, \"Bob\"),\n",
    "    ],\n",
    "    \"INSERT INTO sales (transaction_id, amount) VALUES (%s, %s)\": [\n",
    "        (1, 40),\n",
    "        (2, 19),\n",
    "        (3, 45)\n",
    "    ]\n",
    "}\n",
    "for query, values in data.items():\n",
    "    for row in values:\n",
    "        try: \n",
    "            cur.execute(query, row)\n",
    "        except psycopg2.Error as e: \n",
    "            print(f\"Error: Inserting Rows \\n{e}\")"
   ]
  },
  {
   "cell_type": "markdown",
   "metadata": {},
   "source": [
    "#### TO-DO: Confirm using the Select statement the data were added correctly"
   ]
  },
  {
   "cell_type": "code",
   "execution_count": 15,
   "metadata": {},
   "outputs": [
    {
     "name": "stdout",
     "output_type": "stream",
     "text": [
      "\n",
      "Table: transactions\n",
      "(1, 'Amanda', 1, 2000)\n",
      "(2, 'Toby', 1, 2000)\n",
      "(3, 'Max', 2, 2018)\n",
      "\n",
      "Table: albumns\n",
      "(1, 1, 'Rubber Soul')\n",
      "(2, 1, 'Let it Be')\n",
      "(3, 2, 'My Generation')\n",
      "(4, 3, 'Meet the Beatles')\n",
      "(5, 3, 'Help!')\n",
      "\n",
      "Table: employees\n",
      "(1, 'Sam')\n",
      "(2, 'Bob')\n",
      "\n",
      "Table: sales\n",
      "(1, 40)\n",
      "(2, 19)\n",
      "(3, 45)\n"
     ]
    }
   ],
   "source": [
    "for table in [\"transactions\", \"albumns\", \"employees\", \"sales\"]:\n",
    "    print(f\"\\nTable: {table}\")\n",
    "    try: \n",
    "        cur.execute(f\"SELECT * FROM {table};\")\n",
    "    except psycopg2.Error as e: \n",
    "        print(f\"Error: select *:\\n{e}\")\n",
    "\n",
    "    row = cur.fetchone()\n",
    "    while row:\n",
    "        print(row)\n",
    "        row = cur.fetchone()"
   ]
  },
  {
   "cell_type": "markdown",
   "metadata": {},
   "source": [
    "### Let's say you need to do a query that gives:\n",
    "\n",
    "`transaction_id\n",
    " customer_name\n",
    " cashier name\n",
    " year \n",
    " albums sold\n",
    " amount sold` \n",
    "\n",
    "### TO-DO: Complete the statement below to perform a 3 way `JOIN` on the 4 tables you have created. "
   ]
  },
  {
   "cell_type": "code",
   "execution_count": 16,
   "metadata": {},
   "outputs": [
    {
     "name": "stdout",
     "output_type": "stream",
     "text": [
      "(1, 'Amanda', 1, 2000, 1, 1, 'Rubber Soul', 1, 'Sam', 1, 40)\n",
      "(1, 'Amanda', 1, 2000, 2, 1, 'Let it Be', 1, 'Sam', 1, 40)\n",
      "(2, 'Toby', 1, 2000, 3, 2, 'My Generation', 1, 'Sam', 2, 19)\n",
      "(3, 'Max', 2, 2018, 4, 3, 'Meet the Beatles', 2, 'Bob', 3, 45)\n",
      "(3, 'Max', 2, 2018, 5, 3, 'Help!', 2, 'Bob', 3, 45)\n"
     ]
    }
   ],
   "source": [
    "try: \n",
    "    cur.execute(\"\"\"\n",
    "        SELECT * FROM transactions t\n",
    "        JOIN albumns a ON t.id = a.transaction_id\n",
    "        JOIN employees e ON t.cashier_id = e.id\n",
    "        JOIN sales s ON t.id = s.transaction_id\n",
    "    \"\"\")\n",
    "except psycopg2.Error as e: \n",
    "    print(f\"Error: select *:\\n{e}\")\n",
    "\n",
    "row = cur.fetchone()\n",
    "while row:\n",
    "    print(row)\n",
    "    row = cur.fetchone()"
   ]
  },
  {
   "cell_type": "markdown",
   "metadata": {},
   "source": [
    "#### Great we were able to get the data we wanted.\n",
    "\n",
    "### But, we had to perform a 3 way `JOIN` to get there. While it's great we had that flexibility, we need to remember that `JOINS` are slow and if we have a read heavy workload that required low latency queries we want to reduce the number of `JOINS`.  Let's think about denormalizing our normalized tables."
   ]
  },
  {
   "cell_type": "markdown",
   "metadata": {},
   "source": [
    "### With denormalization you want to think about the queries you are running and how to reduce the number of JOINS even if that means duplicating data. The following are the queries you need to run."
   ]
  },
  {
   "cell_type": "markdown",
   "metadata": {},
   "source": [
    "#### Query 1 : `select transaction_id, customer_name, amount_spent FROM <min number of tables>` \n",
    "It should generate the amount spent on each transaction \n",
    "#### Query 2: `select cashier_name, SUM(amount_spent) FROM <min number of tables> GROUP BY cashier_name` \n",
    "It should generate the total sales by cashier "
   ]
  },
  {
   "cell_type": "markdown",
   "metadata": {},
   "source": [
    "###  Query 1: `select transaction_id, customer_name, amount_spent FROM <min number of tables>`\n",
    "\n",
    "One way to do this would be to do a JOIN on the `sales` and `transactions2` table but we want to minimize the use of `JOINS`.  \n",
    "\n",
    "To reduce the number of tables, first add `amount_spent` to the `transactions` table so that you will not need to do a JOIN at all. \n",
    "\n",
    "`Table Name: transactions \n",
    "column 0: transaction Id\n",
    "column 1: Customer Name\n",
    "column 2: Cashier Id\n",
    "column 3: Year\n",
    "column 4: amount_spent`\n",
    "\n",
    "<img src=\"images/table19.png\" width=\"450\" height=\"450\">\n"
   ]
  },
  {
   "cell_type": "markdown",
   "metadata": {},
   "source": [
    "### TO-DO: Add the tables as part of the denormalization process"
   ]
  },
  {
   "cell_type": "code",
   "execution_count": 17,
   "metadata": {},
   "outputs": [],
   "source": [
    "for name in [\"transactions\", \"albumns\", \"employees\", \"sales\"]:\n",
    "    cur.execute(f\"DROP TABLE {name}\")"
   ]
  },
  {
   "cell_type": "code",
   "execution_count": 18,
   "metadata": {},
   "outputs": [],
   "source": [
    "# TO-DO: Create all tables\n",
    "tables = {\n",
    "    \"transactions\": \"id INTEGER, customer TEXT, cashier_id INTEGER, year INTEGER, amount INTEGER\",\n",
    "}\n",
    "for name, columns in tables.items():\n",
    "    try: \n",
    "        cur.execute(f\"CREATE TABLE IF NOT EXISTS {name} ({columns});\")\n",
    "    except psycopg2.Error as e: \n",
    "        print(f\"Error: Issue creating table\\n{e}\")\n",
    "\n",
    "\n",
    "\n",
    "#Insert data into all tables \n",
    "data = {\n",
    "    \"INSERT INTO transactions (id, customer, cashier_id, year, amount) VALUES (%s, %s, %s, %s, %s)\": [\n",
    "        (1, \"Amanda\", 1, 2000, 40),\n",
    "        (2, \"Toby\", 1, 2000, 19),\n",
    "        (3, \"Max\", 2, 2018, 45),\n",
    "\n",
    "    ],\n",
    "}\n",
    "for query, values in data.items():\n",
    "    for row in values:\n",
    "        try: \n",
    "            cur.execute(query, row)\n",
    "        except psycopg2.Error as e: \n",
    "            print(f\"Error: Inserting Rows \\n{e}\")"
   ]
  },
  {
   "cell_type": "markdown",
   "metadata": {},
   "source": [
    "### Now you should be able to do a simplifed query to get the information you need. No  `JOIN` is needed."
   ]
  },
  {
   "cell_type": "code",
   "execution_count": 19,
   "metadata": {},
   "outputs": [
    {
     "name": "stdout",
     "output_type": "stream",
     "text": [
      "(1, 'Amanda', 40)\n",
      "(2, 'Toby', 19)\n",
      "(3, 'Max', 45)\n"
     ]
    }
   ],
   "source": [
    "try: \n",
    "    cur.execute(\"select id, customer, amount FROM transactions\")\n",
    "        \n",
    "except psycopg2.Error as e: \n",
    "    print(f\"Error: select *:\\n{e}\")\n",
    "\n",
    "row = cur.fetchone()\n",
    "while row:\n",
    "    print(row)\n",
    "    row = cur.fetchone()"
   ]
  },
  {
   "cell_type": "markdown",
   "metadata": {},
   "source": [
    "#### Your output for the above cell should be the following:\n",
    "(1, 'Amanda', 40)<br>\n",
    "(2, 'Toby', 19)<br>\n",
    "(3, 'Max', 45)"
   ]
  },
  {
   "cell_type": "markdown",
   "metadata": {},
   "source": [
    "### Query 2: `select cashier_name, SUM(amount_spent) FROM <min number of tables> GROUP BY cashier_name` \n",
    "\n",
    "To avoid using any `JOINS`, first create a new table with just the information we need. \n",
    "\n",
    "`Table Name: cashier_sales\n",
    "col: Transaction Id\n",
    "Col: Cashier Name\n",
    "Col: Cashier Id\n",
    "col: Amount_Spent\n",
    "`\n",
    "\n",
    "<img src=\"images/table20.png\" width=\"350\" height=\"350\">\n",
    "\n",
    "### TO-DO: Create a new table with just the information you need."
   ]
  },
  {
   "cell_type": "code",
   "execution_count": 21,
   "metadata": {},
   "outputs": [],
   "source": [
    "cur.execute(f\"DROP TABLE transactions\")"
   ]
  },
  {
   "cell_type": "code",
   "execution_count": 22,
   "metadata": {},
   "outputs": [],
   "source": [
    "# Create the tables\n",
    "tables = {\n",
    "    \"transactions\": \"id INTEGER, cashier_name TEXT, cashier_id INTEGER, amount INTEGER\",\n",
    "}\n",
    "for name, columns in tables.items():\n",
    "    try: \n",
    "        cur.execute(f\"CREATE TABLE IF NOT EXISTS {name} ({columns});\")\n",
    "    except psycopg2.Error as e: \n",
    "        print(f\"Error: Issue creating table\\n{e}\")\n",
    "\n",
    "\n",
    "#Insert into all tables \n",
    "#Insert data into all tables \n",
    "data = {\n",
    "    \"INSERT INTO transactions (id, cashier_name, cashier_id, amount) VALUES (%s, %s, %s, %s)\": [\n",
    "        (1, \"Sam\", 1, 40),\n",
    "        (2, \"Sam\", 1, 19),\n",
    "        (3, \"Bob\", 2, 45),\n",
    "\n",
    "    ],\n",
    "}\n",
    "for query, values in data.items():\n",
    "    for row in values:\n",
    "        try: \n",
    "            cur.execute(query, row)\n",
    "        except psycopg2.Error as e: \n",
    "            print(f\"Error: Inserting Rows \\n{e}\")"
   ]
  },
  {
   "cell_type": "markdown",
   "metadata": {},
   "source": [
    "### Run the query"
   ]
  },
  {
   "cell_type": "code",
   "execution_count": 23,
   "metadata": {},
   "outputs": [
    {
     "name": "stdout",
     "output_type": "stream",
     "text": [
      "('Sam', 59)\n",
      "('Bob', 45)\n"
     ]
    }
   ],
   "source": [
    "try: \n",
    "    cur.execute(\"SELECT cashier_name, SUM(amount) FROM transactions GROUP BY cashier_name\")\n",
    "        \n",
    "except psycopg2.Error as e: \n",
    "    print(f\"Error: select *:\\n{e}\")\n",
    "\n",
    "row = cur.fetchone()\n",
    "while row:\n",
    "    print(row)\n",
    "    row = cur.fetchone()"
   ]
  },
  {
   "cell_type": "markdown",
   "metadata": {},
   "source": [
    "#### Your output for the above cell should be the following:\n",
    "('Sam', 59)<br>\n",
    "('Max', 45)\n"
   ]
  },
  {
   "cell_type": "markdown",
   "metadata": {},
   "source": [
    "#### We have successfully taken normalized table and denormalized them inorder to speed up our performance and allow for simplier queries to be executed. "
   ]
  },
  {
   "cell_type": "markdown",
   "metadata": {},
   "source": [
    "### Drop the tables"
   ]
  },
  {
   "cell_type": "code",
   "execution_count": 24,
   "metadata": {},
   "outputs": [],
   "source": [
    "cur.execute(f\"DROP TABLE transactions\")"
   ]
  },
  {
   "cell_type": "markdown",
   "metadata": {},
   "source": [
    "### And finally close your cursor and connection. "
   ]
  },
  {
   "cell_type": "code",
   "execution_count": 25,
   "metadata": {},
   "outputs": [],
   "source": [
    "cur.close()\n",
    "conn.close()"
   ]
  },
  {
   "cell_type": "code",
   "execution_count": null,
   "metadata": {},
   "outputs": [],
   "source": []
  }
 ],
 "metadata": {
  "kernelspec": {
   "display_name": "Python 3",
   "language": "python",
   "name": "python3"
  },
  "language_info": {
   "codemirror_mode": {
    "name": "ipython",
    "version": 3
   },
   "file_extension": ".py",
   "mimetype": "text/x-python",
   "name": "python",
   "nbconvert_exporter": "python",
   "pygments_lexer": "ipython3",
   "version": "3.7.3"
  }
 },
 "nbformat": 4,
 "nbformat_minor": 2
}
